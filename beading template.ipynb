{
 "cells": [
  {
   "cell_type": "code",
   "execution_count": 80,
   "metadata": {},
   "outputs": [],
   "source": [
    "%matplotlib inline\n",
    "\n",
    "import cv2\n",
    "import numpy as np\n",
    "from matplotlib import pyplot as plt"
   ]
  },
  {
   "cell_type": "code",
   "execution_count": 81,
   "metadata": {},
   "outputs": [],
   "source": [
    "rows=64\n",
    "cols=8*4-1 # n*4-1\n",
    "\n",
    "buffer_h=1000\n",
    "buffer_w=100\n",
    "bead_space_x= 70\n",
    "bead_space_y= 100\n",
    "bead_x=50\n",
    "bead_y=70\n",
    "# bead_y=80\n",
    "\n",
    "h = rows*bead_space_y + buffer_h\n",
    "w = cols*bead_space_x + buffer_w\n",
    "\n",
    "np_mat=np.ones((h, w, 3), np.uint8)\n",
    "np_mat=np_mat*255"
   ]
  },
  {
   "cell_type": "code",
   "execution_count": 82,
   "metadata": {},
   "outputs": [],
   "source": [
    "# starting bead\n",
    "# start_pos=(0,0)\n",
    "start_pos=(80,80)\n",
    "cv2.rectangle(np_mat, start_pos,(start_pos[0]+bead_x,start_pos[1]+bead_y) , (255,0,0), 10);"
   ]
  },
  {
   "cell_type": "code",
   "execution_count": 83,
   "metadata": {},
   "outputs": [],
   "source": [
    "turn_clr=(150,150,150)\n",
    "for row in range(1,rows+1):\n",
    "    if row % 2 == 0:\n",
    "        row_clr=(150,150,150)\n",
    "        # turning part\n",
    "        seed_pos=(start_pos[0], start_pos[1]+row*(bead_y+30)+bead_y//2)\n",
    "        cv2.rectangle(np_mat, seed_pos,(seed_pos[0]+bead_x,seed_pos[1]+bead_y) , turn_clr, 10);\n",
    "        seed_pos=(start_pos[0], start_pos[1]+row*(bead_y+30)-bead_y//2)\n",
    "        cv2.rectangle(np_mat, seed_pos,(seed_pos[0]+bead_x,seed_pos[1]+bead_y) , turn_clr, 10);\n",
    "    else:\n",
    "        row_clr=(0,0,0)\n",
    "    for col in range(1,cols+1):\n",
    "        if row%2==0:\n",
    "            if col %4 ==0:\n",
    "                continue\n",
    "        else:\n",
    "            if (col+2)%4 ==0:\n",
    "                continue\n",
    "        if col %2 == 0:\n",
    "            seed_pos=(start_pos[0]+col*(bead_x+10), start_pos[1]+row*(bead_y+30)+bead_y//2)\n",
    "        else:\n",
    "            seed_pos=(start_pos[0]+col*(bead_x+10), start_pos[1]+row*(bead_y+30))\n",
    "        cv2.rectangle(np_mat, seed_pos,(seed_pos[0]+bead_x,seed_pos[1]+bead_y) , row_clr, 10);\n",
    "        \n"
   ]
  },
  {
   "cell_type": "code",
   "execution_count": 84,
   "metadata": {},
   "outputs": [
    {
     "data": {
      "image/png": "[encoded data removed]",
      "text/plain": [
       "<Figure size 432x288 with 1 Axes>"
      ]
     },
     "metadata": {
      "needs_background": "light"
     },
     "output_type": "display_data"
    }
   ],
   "source": [
    "plt.imshow(np_mat)\n",
    "plt.show()"
   ]
  },
  {
   "cell_type": "code",
   "execution_count": 85,
   "metadata": {},
   "outputs": [
    {
     "data": {
      "text/plain": [
       "True"
      ]
     },
     "execution_count": 85,
     "metadata": {},
     "output_type": "execute_result"
    }
   ],
   "source": [
    "im_bgr = cv2.cvtColor(np_mat, cv2.COLOR_RGB2BGR)\n",
    "cv2.imwrite(\"bookmark_size.jpg\", im_bgr)"
   ]
  }
 ],
 "metadata": {
  "kernelspec": {
   "display_name": "Python 2",
   "language": "python",
   "name": "python2"
  },
  "language_info": {
   "codemirror_mode": {
    "name": "ipython",
    "version": 2
   },
   "file_extension": ".py",
   "mimetype": "text/x-python",
   "name": "python",
   "nbconvert_exporter": "python",
   "pygments_lexer": "ipython2",
   "version": "2.7.9"
  }
 },
 "nbformat": 4,
 "nbformat_minor": 2
}
