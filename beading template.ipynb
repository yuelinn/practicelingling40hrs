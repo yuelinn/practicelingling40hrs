{
 "cells": [
  {
   "cell_type": "code",
   "execution_count": 1,
   "metadata": {},
   "outputs": [],
   "source": [
    "%matplotlib inline\n",
    "\n",
    "import cv2\n",
    "import numpy as np\n",
    "from matplotlib import pyplot as plt\n",
    "from math import ceil"
   ]
  },
  {
   "cell_type": "code",
   "execution_count": 2,
   "metadata": {},
   "outputs": [
    {
     "name": "stdout",
     "output_type": "stream",
     "text": [
      "108 32\n"
     ]
    }
   ],
   "source": [
    "rows=ceil(46.0/3*7)\n",
    "# cols=8*4-1\n",
    "cols=32\n",
    "print(rows,cols)\n",
    "\n",
    "buffer_h=1000\n",
    "buffer_w=100\n",
    "bead_space_x= 70\n",
    "bead_space_y= 100\n",
    "bead_x=50\n",
    "bead_y=50\n",
    "# bead_y=80\n",
    "\n",
    "h = rows*bead_space_y + buffer_h\n",
    "w = cols*bead_space_x + buffer_w\n",
    "\n",
    "np_mat=np.ones((h, w, 3), np.uint8)\n",
    "np_mat=np_mat*255"
   ]
  },
  {
   "cell_type": "code",
   "execution_count": 3,
   "metadata": {},
   "outputs": [],
   "source": [
    "# starting bead\n",
    "# start_pos=(0,0)\n",
    "start_pos=(80,80)\n",
    "cv2.rectangle(np_mat, start_pos,(start_pos[0]+bead_x,start_pos[1]+bead_y) , (255,0,0), 10);"
   ]
  },
  {
   "cell_type": "code",
   "execution_count": 4,
   "metadata": {},
   "outputs": [],
   "source": [
    "turn_clr=(0,0,0)\n",
    "# turn_clr=(150,150,150)\n",
    "y_space=25\n",
    "for row in range(1,rows+1):\n",
    "    if row % 2 == 0:\n",
    "        row_clr=(150,150,150)\n",
    "        # turning part (2 side beads)\n",
    "        seed_pos=(start_pos[0]-(bead_x+10), start_pos[1]+row*(bead_y+y_space)+bead_y//2+30)\n",
    "        cv2.rectangle(np_mat, seed_pos,(seed_pos[0]+bead_x,seed_pos[1]+bead_y) , turn_clr, 10);\n",
    "        seed_pos=(start_pos[0]-(bead_x+10), start_pos[1]+row*(bead_y+y_space)-bead_y//2+30)\n",
    "        cv2.rectangle(np_mat, seed_pos,(seed_pos[0]+bead_x,seed_pos[1]+bead_y) , turn_clr, 10);\n",
    "    else:\n",
    "        row_clr=(0,0,0)\n",
    "    for col in range(0,cols):\n",
    "#     for col in range(1,cols+1):\n",
    "        if row%2==0:\n",
    "            if col%4 ==0:\n",
    "                continue\n",
    "        else:\n",
    "            if (col+2)%4 ==0:\n",
    "                continue\n",
    "        if col %2 == 0:\n",
    "            seed_pos=(start_pos[0]+col*(bead_x+10), start_pos[1]+row*(bead_y+y_space)+bead_y//2)\n",
    "        else:\n",
    "            seed_pos=(start_pos[0]+col*(bead_x+10), start_pos[1]+row*(bead_y+y_space))\n",
    "        cv2.rectangle(np_mat, seed_pos,(seed_pos[0]+bead_x,seed_pos[1]+bead_y) , row_clr, 10);\n",
    "        \n"
   ]
  },
  {
   "cell_type": "code",
   "execution_count": 5,
   "metadata": {},
   "outputs": [
    {
     "data": {
      "image/png": "[encoded data removed]",
      "text/plain": [
       "<Figure size 432x288 with 1 Axes>"
      ]
     },
     "metadata": {
      "needs_background": "light"
     },
     "output_type": "display_data"
    }
   ],
   "source": [
    "plt.imshow(np_mat)\n",
    "plt.show()"
   ]
  },
  {
   "cell_type": "code",
   "execution_count": 6,
   "metadata": {},
   "outputs": [
    {
     "data": {
      "text/plain": [
       "True"
      ]
     },
     "execution_count": 6,
     "metadata": {},
     "output_type": "execute_result"
    }
   ],
   "source": [
    "im_bgr = cv2.cvtColor(np_mat, cv2.COLOR_RGB2BGR)\n",
    "cv2.imwrite(\"bookmark_size.jpg\", im_bgr)"
   ]
  }
 ],
 "metadata": {
  "kernelspec": {
   "display_name": "Python 3",
   "language": "python",
   "name": "python3"
  },
  "language_info": {
   "codemirror_mode": {
    "name": "ipython",
    "version": 3
   },
   "file_extension": ".py",
   "mimetype": "text/x-python",
   "name": "python",
   "nbconvert_exporter": "python",
   "pygments_lexer": "ipython3",
   "version": "3.9.4"
  }
 },
 "nbformat": 4,
 "nbformat_minor": 2
}
